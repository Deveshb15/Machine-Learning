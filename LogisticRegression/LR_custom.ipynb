{
  "nbformat": 4,
  "nbformat_minor": 0,
  "metadata": {
    "colab": {
      "name": "LR_custom.ipynb",
      "provenance": [],
      "collapsed_sections": []
    },
    "kernelspec": {
      "name": "python3",
      "display_name": "Python 3"
    },
    "language_info": {
      "name": "python"
    }
  },
  "cells": [
    {
      "cell_type": "code",
      "metadata": {
        "id": "muA40mvnqdNd"
      },
      "source": [
        "import numpy as np\n",
        "from sklearn.datasets import make_blobs\n",
        "from sklearn.linear_model import LogisticRegression\n",
        "from sklearn.model_selection import train_test_split\n",
        "import matplotlib.pyplot as plt"
      ],
      "execution_count": 1,
      "outputs": []
    },
    {
      "cell_type": "code",
      "metadata": {
        "id": "D_V_TkGoqzmm"
      },
      "source": [
        "X, y = make_blobs( centers=2, random_state=42)"
      ],
      "execution_count": 2,
      "outputs": []
    },
    {
      "cell_type": "code",
      "metadata": {
        "colab": {
          "base_uri": "https://localhost:8080/",
          "height": 282
        },
        "id": "M-qSjBbjrNwY",
        "outputId": "3fcf705c-34cd-4bb4-a6fd-c220d8c14e60"
      },
      "source": [
        "plt.scatter(X[:,0], X[:,1], c=y)"
      ],
      "execution_count": 3,
      "outputs": [
        {
          "output_type": "execute_result",
          "data": {
            "text/plain": [
              "<matplotlib.collections.PathCollection at 0x7fa09d91e510>"
            ]
          },
          "metadata": {
            "tags": []
          },
          "execution_count": 3
        },
        {
          "output_type": "display_data",
          "data": {
            "image/png": "[encoded data removed]",
            "text/plain": [
              "<Figure size 432x288 with 1 Axes>"
            ]
          },
          "metadata": {
            "tags": [],
            "needs_background": "light"
          }
        }
      ]
    },
    {
      "cell_type": "markdown",
      "metadata": {
        "id": "3z2riaOU8KDu"
      },
      "source": [
        "# Custom Logistic Regression"
      ]
    },
    {
      "cell_type": "code",
      "metadata": {
        "id": "3DcItLhe8OV3"
      },
      "source": [
        "class CustomLogisticRegression:\n",
        "\n",
        "  def __init__(self, lr=0.01, iters=20):\n",
        "        self.__lr = lr\n",
        "        self.__iters = iters\n",
        "\n",
        "  def fit(self, X, y):\n",
        "\n",
        "    self.__y = y.reshape(-1,1)\n",
        "    X_mod = np.hstack([np.ones([len(X), 1]), X])\n",
        "    self.__X = X_mod\n",
        "\n",
        "    self.__theta = np.zeros([X_mod.shape[1], 1])\n",
        "\n",
        "    err = []\n",
        "    for i in range(self.__iters):\n",
        "      err.append(self.error())\n",
        "      self.gradient_ascend()\n",
        "\n",
        "    self.__theta = self.__theta\n",
        "\n",
        "    return err\n",
        "\n",
        "  def gradient_ascend(self):\n",
        "    delta_theta = self.gradient()\n",
        "\n",
        "    self.__theta -= delta_theta\n",
        "\n",
        "  def gradient(self):\n",
        "    yh = self.hypothesis(self.__X)\n",
        "    ya = self.__y\n",
        "\n",
        "    diff = -(ya - yh)\n",
        "\n",
        "    return np.dot(self.__X.T, diff) * self.__lr\n",
        "\n",
        "\n",
        "  def hypothesis(self, X):\n",
        "    prod = np.dot(X, self.__theta)\n",
        "\n",
        "    return 1 / (1 + np.exp(-prod))\n",
        "\n",
        "  def error(self):\n",
        "      yh = self.hypothesis(self.__X)\n",
        "      ya = self.__y\n",
        "      ll = ya*np.log(yh) + (1-ya)*np.log(1-yh)\n",
        "        # print(ll.shape) # (100, 1)\n",
        "      return -np.mean(ll)\n",
        "\n",
        "  def predict(self, X):\n",
        "     X_mod = np.hstack([np.ones([len(X), 1]), X])\n",
        "     yh = self.hypothesis(X_mod)\n",
        "\n",
        "     return (yh > 0.5).astype(int).flatten()\n",
        "\n",
        "  def score(self, X, y):\n",
        "    yp = self.predict(X)\n",
        "\n",
        "    return np.mean(yp == y)\n"
      ],
      "execution_count": 4,
      "outputs": []
    },
    {
      "cell_type": "code",
      "metadata": {
        "id": "TetkjN8vrS5L"
      },
      "source": [
        "model = CustomLogisticRegression()"
      ],
      "execution_count": 5,
      "outputs": []
    },
    {
      "cell_type": "code",
      "metadata": {
        "id": "T0kwEHoNv7yA"
      },
      "source": [
        "X_train, X_test, y_train, y_test = train_test_split(\n",
        "...     X, y, test_size=0.33, random_state=42)"
      ],
      "execution_count": 6,
      "outputs": []
    },
    {
      "cell_type": "code",
      "metadata": {
        "id": "25Mkda54wC7K"
      },
      "source": [
        "error = model.fit(X_train, y_train)"
      ],
      "execution_count": 7,
      "outputs": []
    },
    {
      "cell_type": "code",
      "metadata": {
        "colab": {
          "base_uri": "https://localhost:8080/",
          "height": 282
        },
        "id": "P3xxFcAmwF2q",
        "outputId": "9d1fffca-3718-41aa-8411-356a3c4555bd"
      },
      "source": [
        "plt.plot(error)"
      ],
      "execution_count": 8,
      "outputs": [
        {
          "output_type": "execute_result",
          "data": {
            "text/plain": [
              "[<matplotlib.lines.Line2D at 0x7fa09d9090d0>]"
            ]
          },
          "metadata": {
            "tags": []
          },
          "execution_count": 8
        },
        {
          "output_type": "display_data",
          "data": {
            "image/png": "[encoded data removed]",
            "text/plain": [
              "<Figure size 432x288 with 1 Axes>"
            ]
          },
          "metadata": {
            "tags": [],
            "needs_background": "light"
          }
        }
      ]
    },
    {
      "cell_type": "code",
      "metadata": {
        "colab": {
          "base_uri": "https://localhost:8080/"
        },
        "id": "zB-hpBbgCGnc",
        "outputId": "34e4a924-d96f-4ca3-abd2-6479659dc040"
      },
      "source": [
        "model.score(X_test, y_test)"
      ],
      "execution_count": 10,
      "outputs": [
        {
          "output_type": "execute_result",
          "data": {
            "text/plain": [
              "1.0"
            ]
          },
          "metadata": {
            "tags": []
          },
          "execution_count": 10
        }
      ]
    }
  ]
}
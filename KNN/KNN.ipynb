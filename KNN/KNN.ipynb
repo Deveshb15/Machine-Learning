{
 "cells": [
  {
   "cell_type": "code",
   "execution_count": 23,
   "metadata": {
    "id": "GPkI89w6HsSB"
   },
   "outputs": [],
   "source": [
    "import numpy as np\n",
    "import matplotlib.pyplot as plt\n",
    "from sklearn.model_selection import train_test_split"
   ]
  },
  {
   "cell_type": "code",
   "execution_count": 24,
   "metadata": {
    "id": "CCPXpDRuJHUq"
   },
   "outputs": [],
   "source": [
    "data = np.load('./mnist_train_small.npy')"
   ]
  },
  {
   "cell_type": "code",
   "execution_count": 25,
   "metadata": {
    "id": "GG6g3kOvJJ5a"
   },
   "outputs": [],
   "source": [
    "X = data[:, 1:]\n",
    "y = data[:, 0]"
   ]
  },
  {
   "cell_type": "code",
   "execution_count": 26,
   "metadata": {
    "colab": {
     "base_uri": "https://localhost:8080/"
    },
    "id": "a5mH7rfWKg0U",
    "outputId": "4a9cd9cf-a5ed-42d1-891b-60e0fd032d3e"
   },
   "outputs": [
    {
     "data": {
      "text/plain": [
       "((19999, 784), (19999,))"
      ]
     },
     "execution_count": 26,
     "metadata": {
      "tags": []
     },
     "output_type": "execute_result"
    }
   ],
   "source": [
    "X.shape , y.shape"
   ]
  },
  {
   "cell_type": "code",
   "execution_count": 27,
   "metadata": {
    "colab": {
     "base_uri": "https://localhost:8080/",
     "height": 282
    },
    "id": "yJIaC9bkJs1o",
    "outputId": "41153f37-89d1-4e46-f33e-203a127eba14"
   },
   "outputs": [
    {
     "data": {
      "text/plain": [
       "<matplotlib.image.AxesImage at 0x7fd23edd71d0>"
      ]
     },
     "execution_count": 27,
     "metadata": {
      "tags": []
     },
     "output_type": "execute_result"
    },
    {
     "data": {
      "image/png": "[encoded data removed]",
      "text/plain": [
       "<Figure size 432x288 with 1 Axes>"
      ]
     },
     "metadata": {
      "needs_background": "light",
      "tags": []
     },
     "output_type": "display_data"
    }
   ],
   "source": [
    "plt.imshow(X[564].reshape(28,28), cmap='gray')"
   ]
  },
  {
   "cell_type": "code",
   "execution_count": 28,
   "metadata": {
    "colab": {
     "base_uri": "https://localhost:8080/"
    },
    "id": "JLWH5IsgJtYV",
    "outputId": "4421e684-b3ac-4486-efb4-c0c48af56d99"
   },
   "outputs": [
    {
     "data": {
      "text/plain": [
       "7"
      ]
     },
     "execution_count": 28,
     "metadata": {
      "tags": []
     },
     "output_type": "execute_result"
    }
   ],
   "source": [
    "y[564]"
   ]
  },
  {
   "cell_type": "code",
   "execution_count": 19,
   "metadata": {
    "id": "hkBwdh-1S6Vs"
   },
   "outputs": [],
   "source": [
    "train_test_split?"
   ]
  },
  {
   "cell_type": "code",
   "execution_count": 29,
   "metadata": {
    "id": "K5_kyzQtS9VG"
   },
   "outputs": [],
   "source": [
    " X_train, X_test, y_train, y_test = train_test_split(\n",
    "...     X, y, test_size=0.33, random_state=42)\n"
   ]
  },
  {
   "cell_type": "code",
   "execution_count": 30,
   "metadata": {
    "colab": {
     "base_uri": "https://localhost:8080/"
    },
    "id": "VmUFsTwxTgoH",
    "outputId": "d8ae7edf-292d-466e-b992-782a14c098cd"
   },
   "outputs": [
    {
     "data": {
      "text/plain": [
       "((13399, 784), (13399,))"
      ]
     },
     "execution_count": 30,
     "metadata": {
      "tags": []
     },
     "output_type": "execute_result"
    }
   ],
   "source": [
    "X_train.shape, y_train.shape\n"
   ]
  },
  {
   "cell_type": "code",
   "execution_count": 31,
   "metadata": {
    "colab": {
     "base_uri": "https://localhost:8080/"
    },
    "id": "qasL-nCbTiUW",
    "outputId": "ffddfe70-ee4c-4156-9523-ac5e18cc76d4"
   },
   "outputs": [
    {
     "data": {
      "text/plain": [
       "((6600, 784), (6600,))"
      ]
     },
     "execution_count": 31,
     "metadata": {
      "tags": []
     },
     "output_type": "execute_result"
    }
   ],
   "source": [
    "X_test.shape, y_test.shape"
   ]
  },
  {
   "cell_type": "code",
   "execution_count": 32,
   "metadata": {
    "id": "s2rZhbNiTs3S"
   },
   "outputs": [],
   "source": [
    "from sklearn.neighbors import KNeighborsClassifier"
   ]
  },
  {
   "cell_type": "code",
   "execution_count": 33,
   "metadata": {
    "id": "zxz7loyaVj5x"
   },
   "outputs": [],
   "source": [
    "model = KNeighborsClassifier()"
   ]
  },
  {
   "cell_type": "code",
   "execution_count": 17,
   "metadata": {
    "colab": {
     "base_uri": "https://localhost:8080/"
    },
    "id": "bFRXulG_Vq-K",
    "outputId": "3c68d483-9239-4c29-c948-12aa8ae59da6"
   },
   "outputs": [
    {
     "data": {
      "text/plain": [
       "KNeighborsClassifier(algorithm='auto', leaf_size=30, metric='minkowski',\n",
       "                     metric_params=None, n_jobs=None, n_neighbors=5, p=2,\n",
       "                     weights='uniform')"
      ]
     },
     "execution_count": 17,
     "metadata": {
      "tags": []
     },
     "output_type": "execute_result"
    }
   ],
   "source": [
    "# use fit to train the model\n",
    "model.fit(X_train, y_train)"
   ]
  },
  {
   "cell_type": "code",
   "execution_count": 18,
   "metadata": {
    "colab": {
     "base_uri": "https://localhost:8080/"
    },
    "id": "JSGjuPLiVuub",
    "outputId": "e3a81fb5-9c95-4d44-86a6-fd3c496cbd14"
   },
   "outputs": [
    {
     "data": {
      "text/plain": [
       "array([1, 7, 0, 9, 4, 5, 4, 6, 9, 2], dtype=uint8)"
      ]
     },
     "execution_count": 18,
     "metadata": {
      "tags": []
     },
     "output_type": "execute_result"
    }
   ],
   "source": [
    "#use predict to test\n",
    "model.predict(X_test[:10])"
   ]
  },
  {
   "cell_type": "code",
   "execution_count": 19,
   "metadata": {
    "colab": {
     "base_uri": "https://localhost:8080/"
    },
    "id": "uVrG44L2V5IS",
    "outputId": "daa9a1ae-00fc-462a-bf47-49f9eb8360f4"
   },
   "outputs": [
    {
     "data": {
      "text/plain": [
       "array([7, 7, 0, 9, 4, 5, 4, 6, 9, 2], dtype=uint8)"
      ]
     },
     "execution_count": 19,
     "metadata": {
      "tags": []
     },
     "output_type": "execute_result"
    }
   ],
   "source": [
    "y_test[:10]"
   ]
  },
  {
   "cell_type": "markdown",
   "metadata": {
    "id": "u5NlLOqgXusc"
   },
   "source": [
    "## Custom KNN"
   ]
  },
  {
   "cell_type": "code",
   "execution_count": 45,
   "metadata": {
    "id": "nBUnAEi6Xn76"
   },
   "outputs": [],
   "source": [
    "class CustomKNN:\n",
    "  # constructor\n",
    "  def __init__(self, n_neighbors=5):\n",
    "    self.n_neighbors = n_neighbors;\n",
    "  # training function\n",
    "  def fit(self, X, y):\n",
    "    self._X = X.astype(np.int64);\n",
    "    self._y = y;\n",
    "\n",
    "  # predict point\n",
    "  # given a single point, tell me which class it belongs to\n",
    "  def predict_point(self, point):\n",
    "    # storing the dis of given 'point' from each point in training data\n",
    "    list_dist = [];\n",
    "\n",
    "    # these points are from my training data\n",
    "    for x_point, y_point in zip(self._X, self._y):\n",
    "      dist_point = ((point - x_point) ** 2).sum();\n",
    "      list_dist.append([dist_point, y_point]);\n",
    "\n",
    "    ## sorting the list according to the distance\n",
    "    sorted_dist = sorted(list_dist);\n",
    "    top_k = sorted_dist[:self.n_neighbors]\n",
    "\n",
    "    # taking the count \n",
    "    items, count = np.unique(np.array(top_k)[:, 1], return_counts=True);\n",
    "    ans = items[np.argmax(count)]\n",
    "    return ans\n",
    "\n",
    "  # predict\n",
    "  # give me answer for each number in the array\n",
    "  def predict(self, X):\n",
    "    results = []\n",
    "    for point in X.astype(np.int64):\n",
    "      results.append(self.predict_point(point));\n",
    "    \n",
    "    return np.array(results, dtype=int);\n",
    "    \n",
    "  # score to measure my accuracy\n",
    "  def score(self, X, y):\n",
    "    return sum(self.predict(X) == y)/len(y);"
   ]
  },
  {
   "cell_type": "code",
   "execution_count": 40,
   "metadata": {
    "id": "a3SFqAmztj9y"
   },
   "outputs": [],
   "source": [
    "model2 = CustomKNN()"
   ]
  },
  {
   "cell_type": "code",
   "execution_count": 41,
   "metadata": {
    "id": "iQaEDKprtnUM"
   },
   "outputs": [],
   "source": [
    "model2.fit(X_train, y_train)"
   ]
  },
  {
   "cell_type": "code",
   "execution_count": 42,
   "metadata": {
    "colab": {
     "base_uri": "https://localhost:8080/"
    },
    "id": "u7US-A2btrPU",
    "outputId": "cbf8b391-e88e-498d-e84c-e7be2b8903c1"
   },
   "outputs": [
    {
     "data": {
      "text/plain": [
       "array([1, 7, 0, 9, 4, 5, 4, 6, 9, 2])"
      ]
     },
     "execution_count": 42,
     "metadata": {
      "tags": []
     },
     "output_type": "execute_result"
    }
   ],
   "source": [
    "model2.predict(X_test[:10])"
   ]
  },
  {
   "cell_type": "code",
   "execution_count": 43,
   "metadata": {
    "colab": {
     "base_uri": "https://localhost:8080/"
    },
    "id": "kZkNmYGFtv25",
    "outputId": "f3ae4a81-84dc-459e-aaab-184d43affac8"
   },
   "outputs": [
    {
     "data": {
      "text/plain": [
       "array([7, 7, 0, 9, 4, 5, 4, 6, 9, 2], dtype=uint8)"
      ]
     },
     "execution_count": 43,
     "metadata": {
      "tags": []
     },
     "output_type": "execute_result"
    }
   ],
   "source": [
    "y_test[:10]"
   ]
  },
  {
   "cell_type": "code",
   "execution_count": 44,
   "metadata": {
    "colab": {
     "base_uri": "https://localhost:8080/"
    },
    "id": "R6c35bHzt8F8",
    "outputId": "3c10b65d-75a3-4e54-cef6-77d53df1fe30"
   },
   "outputs": [
    {
     "data": {
      "text/plain": [
       "0.95"
      ]
     },
     "execution_count": 44,
     "metadata": {
      "tags": []
     },
     "output_type": "execute_result"
    }
   ],
   "source": [
    "model2.score(X_test[:100], y_test[:100])"
   ]
  },
  {
   "cell_type": "markdown",
   "metadata": {
    "id": "-dG-NzBbumJF"
   },
   "source": [
    "GITHUB REPO BY KUNAL\n",
    "https://github.com/codeforcauseorg/ML-Bootcamp-July/blob/master/knn/KNN.ipynb"
   ]
  }
 ],
 "metadata": {
  "colab": {
   "collapsed_sections": [],
   "name": "KNN.ipynb",
   "provenance": []
  },
  "kernelspec": {
   "display_name": "Python 3",
   "language": "python",
   "name": "python3"
  },
  "language_info": {
   "codemirror_mode": {
    "name": "ipython",
    "version": 3
   },
   "file_extension": ".py",
   "mimetype": "text/x-python",
   "name": "python",
   "nbconvert_exporter": "python",
   "pygments_lexer": "ipython3",
   "version": "3.9.1"
  }
 },
 "nbformat": 4,
 "nbformat_minor": 4
}

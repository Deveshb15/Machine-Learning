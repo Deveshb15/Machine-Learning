{
  "nbformat": 4,
  "nbformat_minor": 0,
  "metadata": {
    "colab": {
      "name": "nltk.ipynb",
      "provenance": []
    },
    "kernelspec": {
      "name": "python3",
      "display_name": "Python 3"
    },
    "language_info": {
      "name": "python"
    }
  },
  "cells": [
    {
      "cell_type": "code",
      "metadata": {
        "id": "PKu2hj7ycrsp"
      },
      "source": [
        "import nltk"
      ],
      "execution_count": 1,
      "outputs": []
    },
    {
      "cell_type": "code",
      "metadata": {
        "id": "5Q3tcDWIct_s"
      },
      "source": [
        "from nltk.corpus import brown"
      ],
      "execution_count": 2,
      "outputs": []
    },
    {
      "cell_type": "code",
      "metadata": {
        "colab": {
          "base_uri": "https://localhost:8080/"
        },
        "id": "C73RBY62c0yn",
        "outputId": "d52c73ac-275e-4e10-f8ae-c5c9a9e72a10"
      },
      "source": [
        "brown.categories()"
      ],
      "execution_count": 3,
      "outputs": [
        {
          "output_type": "execute_result",
          "data": {
            "text/plain": [
              "['adventure',\n",
              " 'belles_lettres',\n",
              " 'editorial',\n",
              " 'fiction',\n",
              " 'government',\n",
              " 'hobbies',\n",
              " 'humor',\n",
              " 'learned',\n",
              " 'lore',\n",
              " 'mystery',\n",
              " 'news',\n",
              " 'religion',\n",
              " 'reviews',\n",
              " 'romance',\n",
              " 'science_fiction']"
            ]
          },
          "metadata": {
            "tags": []
          },
          "execution_count": 3
        }
      ]
    },
    {
      "cell_type": "code",
      "metadata": {
        "id": "1Q7r-JxEc2pz"
      },
      "source": [
        "data = brown.sents(categories=['religion'])"
      ],
      "execution_count": 4,
      "outputs": []
    },
    {
      "cell_type": "code",
      "metadata": {
        "colab": {
          "base_uri": "https://localhost:8080/",
          "height": 35
        },
        "id": "AE_kUKy8dYrw",
        "outputId": "15604bd7-4201-4c07-e8ad-8ae1cf4e8291"
      },
      "source": [
        "\" \".join(data[5])"
      ],
      "execution_count": 5,
      "outputs": [
        {
          "output_type": "execute_result",
          "data": {
            "application/vnd.google.colaboratory.intrinsic+json": {
              "type": "string"
            },
            "text/plain": [
              "'We are in a transitional stage in which many of the connotations of former usage have had to be revised or rejected .'"
            ]
          },
          "metadata": {
            "tags": []
          },
          "execution_count": 5
        }
      ]
    },
    {
      "cell_type": "markdown",
      "metadata": {
        "id": "qXUXBw7S6YYM"
      },
      "source": [
        "# Tokenize"
      ]
    },
    {
      "cell_type": "code",
      "metadata": {
        "id": "6vdgX4kT6XHI"
      },
      "source": [
        "from nltk.tokenize import sent_tokenize, word_tokenize"
      ],
      "execution_count": 6,
      "outputs": []
    },
    {
      "cell_type": "code",
      "metadata": {
        "id": "eprTxu5U6kOZ"
      },
      "source": [
        "document = \"\"\" It was a very good movie. The cast was amazing and I liked the story.\n",
        "I went to the movie hall to see it.\n",
        "\"\"\"\n",
        "\n",
        "sentence = \"Devesh is so amazing\""
      ],
      "execution_count": 7,
      "outputs": []
    },
    {
      "cell_type": "code",
      "metadata": {
        "colab": {
          "base_uri": "https://localhost:8080/"
        },
        "id": "rKQqwHJ96lpM",
        "outputId": "f0124dc1-aba4-4bd1-f150-be9e6c653954"
      },
      "source": [
        "sents = sent_tokenize(document)\n",
        "print(sents)"
      ],
      "execution_count": 8,
      "outputs": [
        {
          "output_type": "stream",
          "text": [
            "[' It was a very good movie.', 'The cast was amazing and I liked the story.', 'I went to the movie hall to see it.']\n"
          ],
          "name": "stdout"
        }
      ]
    },
    {
      "cell_type": "code",
      "metadata": {
        "colab": {
          "base_uri": "https://localhost:8080/"
        },
        "id": "DLYt35uB6odD",
        "outputId": "cf74b3cf-cd42-48db-d205-9b2edd0cf098"
      },
      "source": [
        "word = word_tokenize(sentence)\n",
        "print(word)"
      ],
      "execution_count": 9,
      "outputs": [
        {
          "output_type": "stream",
          "text": [
            "['Devesh', 'is', 'so', 'amazing']\n"
          ],
          "name": "stdout"
        }
      ]
    },
    {
      "cell_type": "markdown",
      "metadata": {
        "id": "8k3BiOfq7CQK"
      },
      "source": [
        "# Stopword Removal"
      ]
    },
    {
      "cell_type": "code",
      "metadata": {
        "id": "Bunwaay_6-Jg"
      },
      "source": [
        "from nltk.corpus import stopwords"
      ],
      "execution_count": 10,
      "outputs": []
    },
    {
      "cell_type": "code",
      "metadata": {
        "id": "Oq6mpr5L7Nfo"
      },
      "source": [
        "sw = set(stopwords.words('english'))"
      ],
      "execution_count": 11,
      "outputs": []
    },
    {
      "cell_type": "code",
      "metadata": {
        "colab": {
          "base_uri": "https://localhost:8080/"
        },
        "id": "HjlXvLIT7WqS",
        "outputId": "ce963c0a-e4e9-48e1-efd2-5d0ab6b43c83"
      },
      "source": [
        "text = \"i am not a very good cricket player\".split()\n",
        "print(text)"
      ],
      "execution_count": 12,
      "outputs": [
        {
          "output_type": "stream",
          "text": [
            "['i', 'am', 'not', 'a', 'very', 'good', 'cricket', 'player']\n"
          ],
          "name": "stdout"
        }
      ]
    },
    {
      "cell_type": "code",
      "metadata": {
        "id": "OZ8iOZTx7bUc"
      },
      "source": [
        "def remove_stopwords(text, stopwords):\n",
        "  useful = [w for w in text if w not in stopwords]\n",
        "  return useful"
      ],
      "execution_count": 13,
      "outputs": []
    },
    {
      "cell_type": "code",
      "metadata": {
        "id": "-wRCPZlU8NmF"
      },
      "source": [
        "useful_words = remove_stopwords(text, sw)"
      ],
      "execution_count": 14,
      "outputs": []
    },
    {
      "cell_type": "code",
      "metadata": {
        "colab": {
          "base_uri": "https://localhost:8080/"
        },
        "id": "tM2bekSN8gfV",
        "outputId": "385bc197-be64-4c1d-df13-92368ba0e7f0"
      },
      "source": [
        "useful_words"
      ],
      "execution_count": 15,
      "outputs": [
        {
          "output_type": "execute_result",
          "data": {
            "text/plain": [
              "['good', 'cricket', 'player']"
            ]
          },
          "metadata": {
            "tags": []
          },
          "execution_count": 15
        }
      ]
    },
    {
      "cell_type": "markdown",
      "metadata": {
        "id": "N8GL3IgZ8lQd"
      },
      "source": [
        "# Stemming"
      ]
    },
    {
      "cell_type": "code",
      "metadata": {
        "id": "Y8s5L7q88iBi"
      },
      "source": [
        "from nltk.stem import PorterStemmer, LancasterStemmer, SnowballStemmer"
      ],
      "execution_count": 16,
      "outputs": []
    },
    {
      "cell_type": "code",
      "metadata": {
        "id": "ApxNUM9SBcVY"
      },
      "source": [
        "ps = PorterStemmer()"
      ],
      "execution_count": 17,
      "outputs": []
    },
    {
      "cell_type": "code",
      "metadata": {
        "colab": {
          "base_uri": "https://localhost:8080/",
          "height": 35
        },
        "id": "fPbfQH3DBgv9",
        "outputId": "9ee26fe3-b193-424c-a408-8a7c1fc339dc"
      },
      "source": [
        "ps.stem('playing')"
      ],
      "execution_count": 18,
      "outputs": [
        {
          "output_type": "execute_result",
          "data": {
            "application/vnd.google.colaboratory.intrinsic+json": {
              "type": "string"
            },
            "text/plain": [
              "'play'"
            ]
          },
          "metadata": {
            "tags": []
          },
          "execution_count": 18
        }
      ]
    },
    {
      "cell_type": "code",
      "metadata": {
        "id": "aLvvlmAJBi3i"
      },
      "source": [
        "corpus = [\n",
        "    'Dan Morgan told himself he would forget Ann Turner.',\n",
        "    'Sometimes he woke up in the middle of the night thinking of Ann , and then could not get back to sleep .',\n",
        "    'His plans and dreams had revolved around her so much and for so long that now he felt as if he had nothing .',\n",
        "    'He found that if he was tired enough at night , he went to sleep simply because he was too exhausted to stay awake .'\n",
        "]"
      ],
      "execution_count": 19,
      "outputs": []
    },
    {
      "cell_type": "code",
      "metadata": {
        "id": "dVn2UH_pBoo6"
      },
      "source": [
        "from sklearn.feature_extraction.text import CountVectorizer"
      ],
      "execution_count": 20,
      "outputs": []
    },
    {
      "cell_type": "code",
      "metadata": {
        "id": "6JLb-dfzByBy"
      },
      "source": [
        "cv = CountVectorizer()"
      ],
      "execution_count": 21,
      "outputs": []
    },
    {
      "cell_type": "code",
      "metadata": {
        "id": "cPpoUCuCCGAO"
      },
      "source": [
        "vc = cv.fit_transform(corpus)"
      ],
      "execution_count": 22,
      "outputs": []
    },
    {
      "cell_type": "code",
      "metadata": {
        "colab": {
          "base_uri": "https://localhost:8080/"
        },
        "id": "PF9Wli5lCJY8",
        "outputId": "c2285328-0879-493d-9c62-89bc45e83c91"
      },
      "source": [
        "vc = vc.toarray()\n",
        "print(vc)\n",
        "print(cv.vocabulary_)"
      ],
      "execution_count": 23,
      "outputs": [
        {
          "output_type": "stream",
          "text": [
            "[[0 1 0 0 0 0 0 0 0 1 0 0 0 0 0 1 0 0 0 1 0 1 0 0 0 0 0 1 0 0 0 0 0 0 0 0\n",
            "  0 0 0 0 0 0 0 0 0 0 0 1 0 1 0 0 0 0 1]\n",
            " [1 1 0 0 0 0 1 0 1 0 0 0 0 0 0 0 0 1 0 1 0 0 0 0 1 0 1 0 0 1 1 0 0 2 0 0\n",
            "  0 1 0 1 0 0 2 1 1 0 1 0 0 0 1 0 0 1 0]\n",
            " [2 0 1 1 0 0 0 0 0 0 1 0 0 1 1 0 0 0 2 2 1 0 1 1 0 1 0 0 1 0 0 1 1 0 1 1\n",
            "  0 0 2 0 0 1 0 0 0 0 0 0 0 0 0 0 0 0 0]\n",
            " [0 0 0 0 1 1 0 1 0 0 0 1 1 0 0 0 1 0 0 4 0 0 0 1 0 0 0 0 0 1 0 0 0 0 0 0\n",
            "  1 1 0 0 1 1 0 0 0 1 2 0 1 0 0 2 1 0 0]]\n",
            "{'dan': 9, 'morgan': 27, 'told': 47, 'himself': 21, 'he': 19, 'would': 54, 'forget': 15, 'ann': 1, 'turner': 49, 'sometimes': 39, 'woke': 53, 'up': 50, 'in': 24, 'the': 42, 'middle': 26, 'of': 33, 'night': 29, 'thinking': 44, 'and': 0, 'then': 43, 'could': 8, 'not': 30, 'get': 17, 'back': 6, 'to': 46, 'sleep': 37, 'his': 22, 'plans': 34, 'dreams': 10, 'had': 18, 'revolved': 35, 'around': 2, 'her': 20, 'so': 38, 'much': 28, 'for': 14, 'long': 25, 'that': 41, 'now': 32, 'felt': 13, 'as': 3, 'if': 23, 'nothing': 31, 'found': 16, 'was': 51, 'tired': 45, 'enough': 11, 'at': 4, 'went': 52, 'simply': 36, 'because': 7, 'too': 48, 'exhausted': 12, 'stay': 40, 'awake': 5}\n"
          ],
          "name": "stdout"
        }
      ]
    },
    {
      "cell_type": "code",
      "metadata": {
        "id": "4ovPVYl9CMQ9"
      },
      "source": [
        "numbers = vc[2]"
      ],
      "execution_count": 24,
      "outputs": []
    },
    {
      "cell_type": "code",
      "metadata": {
        "colab": {
          "base_uri": "https://localhost:8080/"
        },
        "id": "UO0yMws-C1gu",
        "outputId": "d0c48710-10b0-400b-808e-83f4fbe2c483"
      },
      "source": [
        "len(numbers)"
      ],
      "execution_count": 26,
      "outputs": [
        {
          "output_type": "execute_result",
          "data": {
            "text/plain": [
              "55"
            ]
          },
          "metadata": {
            "tags": []
          },
          "execution_count": 26
        }
      ]
    },
    {
      "cell_type": "code",
      "metadata": {
        "colab": {
          "base_uri": "https://localhost:8080/"
        },
        "id": "Ofh198Q6C2ce",
        "outputId": "eb0e0862-40d2-4472-d12d-4411325d2e55"
      },
      "source": [
        "len(cv.vocabulary_)"
      ],
      "execution_count": 28,
      "outputs": [
        {
          "output_type": "execute_result",
          "data": {
            "text/plain": [
              "55"
            ]
          },
          "metadata": {
            "tags": []
          },
          "execution_count": 28
        }
      ]
    },
    {
      "cell_type": "code",
      "metadata": {
        "id": "svmqLAv8FBPG"
      },
      "source": [
        "from nltk.tokenize import RegexpTokenizer\n",
        "tokenizer = RegexpTokenizer('[a-zA-Z@.]+')"
      ],
      "execution_count": 47,
      "outputs": []
    },
    {
      "cell_type": "code",
      "metadata": {
        "id": "WvqPe3PXC57o"
      },
      "source": [
        "def myTokenizer(document):\n",
        "  words = tokenizer.tokenize(document.lower())\n",
        "  words = remove_stopwords(words,sw)\n",
        "  return words"
      ],
      "execution_count": 49,
      "outputs": []
    },
    {
      "cell_type": "code",
      "metadata": {
        "colab": {
          "base_uri": "https://localhost:8080/"
        },
        "id": "kwLuL1LlDwu-",
        "outputId": "23992f2c-6505-4674-eb12-b5c2d6d8629c"
      },
      "source": [
        "myTokenizer(\"this is a random text\")"
      ],
      "execution_count": 50,
      "outputs": [
        {
          "output_type": "execute_result",
          "data": {
            "text/plain": [
              "['random', 'text']"
            ]
          },
          "metadata": {
            "tags": []
          },
          "execution_count": 50
        }
      ]
    },
    {
      "cell_type": "code",
      "metadata": {
        "id": "zlTQy2JlD27L"
      },
      "source": [
        "cv = CountVectorizer(tokenizer=myTokenizer)"
      ],
      "execution_count": 51,
      "outputs": []
    },
    {
      "cell_type": "code",
      "metadata": {
        "id": "WUsN6X_wEdn2"
      },
      "source": [
        "vc = cv.fit_transform(corpus).toarray()"
      ],
      "execution_count": 52,
      "outputs": []
    },
    {
      "cell_type": "code",
      "metadata": {
        "colab": {
          "base_uri": "https://localhost:8080/"
        },
        "id": "FMd1T780EjAd",
        "outputId": "aa3c33ed-e55f-4045-82f0-777bca445733"
      },
      "source": [
        "print(vc)"
      ],
      "execution_count": 53,
      "outputs": [
        {
          "output_type": "stream",
          "text": [
            "[[0 1 0 0 0 0 1 0 0 0 0 1 0 0 0 0 1 0 0 0 0 0 0 0 0 0 0 0 1 1 0 0 1]\n",
            " [1 1 0 0 1 1 0 0 0 0 0 0 0 1 0 1 0 0 1 0 0 0 0 1 1 0 1 0 0 0 0 1 0]\n",
            " [1 0 1 0 0 0 0 1 0 0 1 0 0 0 1 0 0 1 0 1 1 1 0 0 0 0 0 0 0 0 0 0 0]\n",
            " [1 0 0 1 0 0 0 0 1 1 0 0 1 0 0 0 0 0 1 0 0 0 1 1 0 1 0 1 0 0 1 0 0]]\n"
          ],
          "name": "stdout"
        }
      ]
    },
    {
      "cell_type": "code",
      "metadata": {
        "colab": {
          "base_uri": "https://localhost:8080/"
        },
        "id": "TNJzkQY-Ekrk",
        "outputId": "881fbdf0-bde8-406a-f0a2-9131312a91b2"
      },
      "source": [
        "len(vc[0])"
      ],
      "execution_count": 54,
      "outputs": [
        {
          "output_type": "execute_result",
          "data": {
            "text/plain": [
              "33"
            ]
          },
          "metadata": {
            "tags": []
          },
          "execution_count": 54
        }
      ]
    },
    {
      "cell_type": "code",
      "metadata": {
        "colab": {
          "base_uri": "https://localhost:8080/"
        },
        "id": "BrtHhURgEpIT",
        "outputId": "51c8e0dc-c26f-4603-9ec9-58a8328aa7d3"
      },
      "source": [
        "len(cv.vocabulary_)"
      ],
      "execution_count": 55,
      "outputs": [
        {
          "output_type": "execute_result",
          "data": {
            "text/plain": [
              "33"
            ]
          },
          "metadata": {
            "tags": []
          },
          "execution_count": 55
        }
      ]
    },
    {
      "cell_type": "code",
      "metadata": {
        "colab": {
          "base_uri": "https://localhost:8080/"
        },
        "id": "z2btByrHE0cX",
        "outputId": "143034e9-95ab-482e-ba56-43fe3071ba40"
      },
      "source": [
        "cv.vocabulary_"
      ],
      "execution_count": 56,
      "outputs": [
        {
          "output_type": "execute_result",
          "data": {
            "text/plain": [
              "{'.': 0,\n",
              " 'ann': 1,\n",
              " 'around': 2,\n",
              " 'awake': 3,\n",
              " 'back': 4,\n",
              " 'could': 5,\n",
              " 'dan': 6,\n",
              " 'dreams': 7,\n",
              " 'enough': 8,\n",
              " 'exhausted': 9,\n",
              " 'felt': 10,\n",
              " 'forget': 11,\n",
              " 'found': 12,\n",
              " 'get': 13,\n",
              " 'long': 14,\n",
              " 'middle': 15,\n",
              " 'morgan': 16,\n",
              " 'much': 17,\n",
              " 'night': 18,\n",
              " 'nothing': 19,\n",
              " 'plans': 20,\n",
              " 'revolved': 21,\n",
              " 'simply': 22,\n",
              " 'sleep': 23,\n",
              " 'sometimes': 24,\n",
              " 'stay': 25,\n",
              " 'thinking': 26,\n",
              " 'tired': 27,\n",
              " 'told': 28,\n",
              " 'turner.': 29,\n",
              " 'went': 30,\n",
              " 'woke': 31,\n",
              " 'would': 32}"
            ]
          },
          "metadata": {
            "tags": []
          },
          "execution_count": 56
        }
      ]
    },
    {
      "cell_type": "code",
      "metadata": {
        "id": "Jr7ytYxKFiWL"
      },
      "source": [
        "sent = \"My email is deveshb583@gmail.com, please don't spam my inbox\""
      ],
      "execution_count": 66,
      "outputs": []
    },
    {
      "cell_type": "code",
      "metadata": {
        "colab": {
          "base_uri": "https://localhost:8080/"
        },
        "id": "gMJEGyBTE3qQ",
        "outputId": "f250dd3b-f37f-41d6-c62b-681a188371d8"
      },
      "source": [
        "len(cv.transform([sent]).toarray()[0])"
      ],
      "execution_count": 68,
      "outputs": [
        {
          "output_type": "execute_result",
          "data": {
            "text/plain": [
              "33"
            ]
          },
          "metadata": {
            "tags": []
          },
          "execution_count": 68
        }
      ]
    },
    {
      "cell_type": "code",
      "metadata": {
        "colab": {
          "base_uri": "https://localhost:8080/"
        },
        "id": "q3rYhjyLFYYX",
        "outputId": "795aa648-0f63-4fb1-ea76-32b8df2dcfc2"
      },
      "source": [
        "\n",
        "cv.vocabulary_"
      ],
      "execution_count": 65,
      "outputs": [
        {
          "output_type": "execute_result",
          "data": {
            "text/plain": [
              "{'.': 0,\n",
              " 'ann': 1,\n",
              " 'around': 2,\n",
              " 'awake': 3,\n",
              " 'back': 4,\n",
              " 'could': 5,\n",
              " 'dan': 6,\n",
              " 'dreams': 7,\n",
              " 'enough': 8,\n",
              " 'exhausted': 9,\n",
              " 'felt': 10,\n",
              " 'forget': 11,\n",
              " 'found': 12,\n",
              " 'get': 13,\n",
              " 'long': 14,\n",
              " 'middle': 15,\n",
              " 'morgan': 16,\n",
              " 'much': 17,\n",
              " 'night': 18,\n",
              " 'nothing': 19,\n",
              " 'plans': 20,\n",
              " 'revolved': 21,\n",
              " 'simply': 22,\n",
              " 'sleep': 23,\n",
              " 'sometimes': 24,\n",
              " 'stay': 25,\n",
              " 'thinking': 26,\n",
              " 'tired': 27,\n",
              " 'told': 28,\n",
              " 'turner.': 29,\n",
              " 'went': 30,\n",
              " 'woke': 31,\n",
              " 'would': 32}"
            ]
          },
          "metadata": {
            "tags": []
          },
          "execution_count": 65
        }
      ]
    },
    {
      "cell_type": "code",
      "metadata": {
        "id": "iVHwNN_8FuWF"
      },
      "source": [
        ""
      ],
      "execution_count": null,
      "outputs": []
    }
  ]
}